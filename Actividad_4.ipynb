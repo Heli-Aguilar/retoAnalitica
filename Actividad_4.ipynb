{
  "nbformat": 4,
  "nbformat_minor": 0,
  "metadata": {
    "colab": {
      "provenance": []
    },
    "kernelspec": {
      "name": "python3",
      "display_name": "Python 3"
    },
    "language_info": {
      "name": "python"
    }
  },
  "cells": [
    {
      "cell_type": "markdown",
      "source": [
        "#1. Are there any variables that do not provide information?\n",
        "student_id: Each value is unique, thus it's an identifier with no predictive value.\n",
        "\n",
        "#2. If you had to eliminate variables, which ones would you remove and why?\n",
        "student_id – just an identifier, doesn't contribute to analysis.\n",
        "\n",
        "3. Are there any variables with unusual data?\n",
        "study_hours_per_day: Min is 0.0, which is possible but could be flagged.\n",
        "\n",
        "sleep_hours: Min is 3.2, which is low but plausible for stressed students.\n",
        "\n",
        "mental_health_rating: Range is 1–10, looks reasonable.\n",
        "\n",
        "4. Are variables in similar ranges?\n",
        "Ranges vary significantly:\n",
        "\n",
        "exam_score: 18.4–100\n",
        "\n",
        "attendance_percentage: 56–100\n",
        "\n",
        "study_hours_per_day: 0–8.3\n",
        "\n",
        "mental_health_rating: 1–10\n",
        "\n",
        "exercise_frequency: 0–6\n",
        "\n",
        "5. Does this affect the data analysis?\n",
        "Yes. Different scales can distort visualizations (e.g., heatmaps) and algorithms like k-means or regression without normalization."
      ],
      "metadata": {
        "id": "B0Pf-MZbdxOg"
      }
    },
    {
      "cell_type": "code",
      "execution_count": null,
      "metadata": {
        "id": "W4BbeVy4dCfK"
      },
      "outputs": [],
      "source": [
        "import seaborn as sns\n",
        "import matplotlib.pyplot as plt\n",
        "\n",
        "# Set a style for consistency\n",
        "sns.set(style=\"whitegrid\")\n",
        "\n",
        "# 1. Identify and potentially drop non-informative columns\n",
        "non_informative_columns = ['student_id']\n",
        "df_informative = df.drop(columns=non_informative_columns)\n",
        "\n",
        "# 2. Boxplots for numeric variables\n",
        "numeric_columns = df_informative.select_dtypes(include=['float64', 'int64']).columns\n",
        "\n",
        "# Create boxplots\n",
        "plt.figure(figsize=(15, 10))\n",
        "for i, column in enumerate(numeric_columns, 1):\n",
        "    plt.subplot(3, 3, i)\n",
        "    sns.boxplot(y=df_informative[column], color=\"skyblue\")\n",
        "    plt.title(f'Boxplot of {column}')\n",
        "    plt.tight_layout()\n",
        "\n",
        "# 3. Histograms for numeric variables\n",
        "plt.figure(figsize=(15, 10))\n",
        "for i, column in enumerate(numeric_columns, 1):\n",
        "    plt.subplot(3, 3, i)\n",
        "    sns.histplot(df_informative[column], bins=20, kde=True, color='mediumseagreen')\n",
        "    plt.title(f'Histogram of {column}')\n",
        "    plt.xlabel(column)\n",
        "    plt.tight_layout()\n",
        "\n",
        "# 4. Correlation heatmap\n",
        "correlation_matrix = df_informative.corr(numeric_only=True)\n",
        "plt.figure(figsize=(12, 8))\n",
        "sns.heatmap(correlation_matrix,\n",
        "            annot=True,\n",
        "            cmap='coolwarm',\n",
        "            fmt=\".2f\",\n",
        "            linewidths=0.5,\n",
        "            square=True)\n",
        "plt.title('Heatmap of Numeric Variable Correlations')\n",
        "\n",
        "plt.show()\n"
      ]
    }
  ]
}